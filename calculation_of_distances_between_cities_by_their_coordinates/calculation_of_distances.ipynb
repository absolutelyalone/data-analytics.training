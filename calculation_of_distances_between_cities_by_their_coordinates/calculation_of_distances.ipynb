{
 "cells": [
  {
   "cell_type": "markdown",
   "id": "d6806c92",
   "metadata": {},
   "source": [
    "Расчет расстояний между городами по их координатам "
   ]
  },
  {
   "cell_type": "code",
   "execution_count": 3,
   "id": "f475d88f",
   "metadata": {},
   "outputs": [],
   "source": [
    "import pandas as pd\n",
    "import numpy as np\n",
    "from time import time\n",
    "t1 = time()"
   ]
  },
  {
   "cell_type": "code",
   "execution_count": 4,
   "id": "3444e47d",
   "metadata": {},
   "outputs": [],
   "source": [
    "df = pd.read_csv('cities.csv')"
   ]
  },
  {
   "cell_type": "markdown",
   "id": "9fffa5b1",
   "metadata": {},
   "source": [
    "name - название города, lat - координата широты, lng  - координата долготы.\n",
    "\n",
    "результат: название 1-го города, название 2-го города, расстояние между ними. (без дубликатов)"
   ]
  },
  {
   "cell_type": "code",
   "execution_count": 5,
   "id": "ce1ed02e",
   "metadata": {},
   "outputs": [
    {
     "data": {
      "text/html": [
       "<div>\n",
       "<style scoped>\n",
       "    .dataframe tbody tr th:only-of-type {\n",
       "        vertical-align: middle;\n",
       "    }\n",
       "\n",
       "    .dataframe tbody tr th {\n",
       "        vertical-align: top;\n",
       "    }\n",
       "\n",
       "    .dataframe thead th {\n",
       "        text-align: right;\n",
       "    }\n",
       "</style>\n",
       "<table border=\"1\" class=\"dataframe\">\n",
       "  <thead>\n",
       "    <tr style=\"text-align: right;\">\n",
       "      <th></th>\n",
       "      <th>name</th>\n",
       "      <th>lat</th>\n",
       "      <th>lng</th>\n",
       "    </tr>\n",
       "  </thead>\n",
       "  <tbody>\n",
       "    <tr>\n",
       "      <th>0</th>\n",
       "      <td>New York</td>\n",
       "      <td>40.6943</td>\n",
       "      <td>-73.9249</td>\n",
       "    </tr>\n",
       "    <tr>\n",
       "      <th>1</th>\n",
       "      <td>Los Angeles</td>\n",
       "      <td>34.1141</td>\n",
       "      <td>-118.4068</td>\n",
       "    </tr>\n",
       "    <tr>\n",
       "      <th>2</th>\n",
       "      <td>Chicago</td>\n",
       "      <td>41.8375</td>\n",
       "      <td>-87.6866</td>\n",
       "    </tr>\n",
       "    <tr>\n",
       "      <th>3</th>\n",
       "      <td>Miami</td>\n",
       "      <td>25.7840</td>\n",
       "      <td>-80.2101</td>\n",
       "    </tr>\n",
       "    <tr>\n",
       "      <th>4</th>\n",
       "      <td>Dallas</td>\n",
       "      <td>32.7935</td>\n",
       "      <td>-96.7667</td>\n",
       "    </tr>\n",
       "    <tr>\n",
       "      <th>...</th>\n",
       "      <td>...</td>\n",
       "      <td>...</td>\n",
       "      <td>...</td>\n",
       "    </tr>\n",
       "    <tr>\n",
       "      <th>30839</th>\n",
       "      <td>Ironville</td>\n",
       "      <td>40.6586</td>\n",
       "      <td>-78.2155</td>\n",
       "    </tr>\n",
       "    <tr>\n",
       "      <th>30840</th>\n",
       "      <td>Newkirk</td>\n",
       "      <td>35.0635</td>\n",
       "      <td>-104.2715</td>\n",
       "    </tr>\n",
       "    <tr>\n",
       "      <th>30841</th>\n",
       "      <td>Falcon Village</td>\n",
       "      <td>26.5652</td>\n",
       "      <td>-99.1341</td>\n",
       "    </tr>\n",
       "    <tr>\n",
       "      <th>30842</th>\n",
       "      <td>Hidden Lakes</td>\n",
       "      <td>40.5479</td>\n",
       "      <td>-82.7632</td>\n",
       "    </tr>\n",
       "    <tr>\n",
       "      <th>30843</th>\n",
       "      <td>El Monte Mobile Village</td>\n",
       "      <td>36.5471</td>\n",
       "      <td>-119.4251</td>\n",
       "    </tr>\n",
       "  </tbody>\n",
       "</table>\n",
       "<p>30844 rows × 3 columns</p>\n",
       "</div>"
      ],
      "text/plain": [
       "                          name      lat       lng\n",
       "0                     New York  40.6943  -73.9249\n",
       "1                  Los Angeles  34.1141 -118.4068\n",
       "2                      Chicago  41.8375  -87.6866\n",
       "3                        Miami  25.7840  -80.2101\n",
       "4                       Dallas  32.7935  -96.7667\n",
       "...                        ...      ...       ...\n",
       "30839                Ironville  40.6586  -78.2155\n",
       "30840                  Newkirk  35.0635 -104.2715\n",
       "30841           Falcon Village  26.5652  -99.1341\n",
       "30842             Hidden Lakes  40.5479  -82.7632\n",
       "30843  El Monte Mobile Village  36.5471 -119.4251\n",
       "\n",
       "[30844 rows x 3 columns]"
      ]
     },
     "execution_count": 5,
     "metadata": {},
     "output_type": "execute_result"
    }
   ],
   "source": [
    "df"
   ]
  },
  {
   "cell_type": "code",
   "execution_count": 13,
   "id": "0b688468",
   "metadata": {},
   "outputs": [],
   "source": [
    "# срез городов по количеству, берем 1500 городов\n",
    "slice_of_cities = df.head(1500)"
   ]
  },
  {
   "cell_type": "code",
   "execution_count": 12,
   "id": "f025dd72",
   "metadata": {
    "scrolled": true
   },
   "outputs": [],
   "source": [
    "# делаем все возможные комбинации городов (чтобы из каждого города найти расстояние во все остальные города)\n",
    "df_cities = slice_of_cities.merge(slice_of_cities, how='cross')\n",
    "# отбираем строки, без повторяющихся городов (чтобы мы не искали расстояние из города в этот же город)\n",
    "df_cities = df_cities[df_cities['name_x'] != df_cities['name_y']]"
   ]
  },
  {
   "cell_type": "code",
   "execution_count": 8,
   "id": "2998719f",
   "metadata": {},
   "outputs": [],
   "source": [
    "# радиус земли в км\n",
    "R = 6371.0\n",
    "# находим разницу между ширинами и долготами городов\n",
    "df_cities['dlat'] = df_cities['lat_y'] - df_cities['lat_x']\n",
    "df_cities['dlng'] = df_cities['lng_y'] - df_cities['lng_x']"
   ]
  },
  {
   "cell_type": "code",
   "execution_count": 9,
   "id": "82db5319",
   "metadata": {},
   "outputs": [],
   "source": [
    "# находим расстояния по формуле Гаверсинусов (Haversine formula)\n",
    "df_cities['inside_f'] = np.sin(df_cities['dlat'] / 2)**2 + np.cos(df_cities['lat_x']) * np.cos(df_cities['lat_y']) * np.sin(df_cities['dlng'] / 2)**2 \n",
    "df_cities['haversine_f'] = 2 * np.arcsin(np.sqrt(df_cities['inside_f'])) \n",
    "df_cities['distance'] = df_cities['haversine_f'] * R"
   ]
  },
  {
   "cell_type": "code",
   "execution_count": 10,
   "id": "ef24dbfa",
   "metadata": {},
   "outputs": [],
   "source": [
    "# другой пример рассчета\n",
    "# df_cities['antipode'] = np.cos(df_cities['lat_x']) * np.cos(df_cities['lat_y']) * np.sin(df_cities['dlng'] / 2)**2 + np.sin(df_cities['dlat'] / 2)**2\n",
    "# df_cities['distance'] = np.arctan2(df_cities['antipode']**0.5, (1-df_cities['antipode'])**0.5) * 2 * R"
   ]
  },
  {
   "cell_type": "code",
   "execution_count": 11,
   "id": "214a71cd",
   "metadata": {},
   "outputs": [
    {
     "data": {
      "text/html": [
       "<div>\n",
       "<style scoped>\n",
       "    .dataframe tbody tr th:only-of-type {\n",
       "        vertical-align: middle;\n",
       "    }\n",
       "\n",
       "    .dataframe tbody tr th {\n",
       "        vertical-align: top;\n",
       "    }\n",
       "\n",
       "    .dataframe thead th {\n",
       "        text-align: right;\n",
       "    }\n",
       "</style>\n",
       "<table border=\"1\" class=\"dataframe\">\n",
       "  <thead>\n",
       "    <tr style=\"text-align: right;\">\n",
       "      <th></th>\n",
       "      <th>name_x</th>\n",
       "      <th>name_y</th>\n",
       "      <th>distance</th>\n",
       "    </tr>\n",
       "  </thead>\n",
       "  <tbody>\n",
       "    <tr>\n",
       "      <th>1</th>\n",
       "      <td>New York</td>\n",
       "      <td>Los Angeles</td>\n",
       "      <td>3570.949742</td>\n",
       "    </tr>\n",
       "    <tr>\n",
       "      <th>2</th>\n",
       "      <td>New York</td>\n",
       "      <td>Chicago</td>\n",
       "      <td>9532.540782</td>\n",
       "    </tr>\n",
       "    <tr>\n",
       "      <th>3</th>\n",
       "      <td>New York</td>\n",
       "      <td>Miami</td>\n",
       "      <td>14933.159902</td>\n",
       "    </tr>\n",
       "    <tr>\n",
       "      <th>4</th>\n",
       "      <td>New York</td>\n",
       "      <td>Dallas</td>\n",
       "      <td>8276.008274</td>\n",
       "    </tr>\n",
       "    <tr>\n",
       "      <th>5</th>\n",
       "      <td>New York</td>\n",
       "      <td>Houston</td>\n",
       "      <td>11265.319568</td>\n",
       "    </tr>\n",
       "    <tr>\n",
       "      <th>...</th>\n",
       "      <td>...</td>\n",
       "      <td>...</td>\n",
       "      <td>...</td>\n",
       "    </tr>\n",
       "    <tr>\n",
       "      <th>2249994</th>\n",
       "      <td>Southlake</td>\n",
       "      <td>Garner</td>\n",
       "      <td>17439.808355</td>\n",
       "    </tr>\n",
       "    <tr>\n",
       "      <th>2249995</th>\n",
       "      <td>Southlake</td>\n",
       "      <td>Gurnee</td>\n",
       "      <td>19553.104283</td>\n",
       "    </tr>\n",
       "    <tr>\n",
       "      <th>2249996</th>\n",
       "      <td>Southlake</td>\n",
       "      <td>Opelika</td>\n",
       "      <td>1935.184400</td>\n",
       "    </tr>\n",
       "    <tr>\n",
       "      <th>2249997</th>\n",
       "      <td>Southlake</td>\n",
       "      <td>Parkville</td>\n",
       "      <td>714.460009</td>\n",
       "    </tr>\n",
       "    <tr>\n",
       "      <th>2249998</th>\n",
       "      <td>Southlake</td>\n",
       "      <td>Hopkinsville</td>\n",
       "      <td>15691.816769</td>\n",
       "    </tr>\n",
       "  </tbody>\n",
       "</table>\n",
       "<p>2248150 rows × 3 columns</p>\n",
       "</div>"
      ],
      "text/plain": [
       "            name_x        name_y      distance\n",
       "1         New York   Los Angeles   3570.949742\n",
       "2         New York       Chicago   9532.540782\n",
       "3         New York         Miami  14933.159902\n",
       "4         New York        Dallas   8276.008274\n",
       "5         New York       Houston  11265.319568\n",
       "...            ...           ...           ...\n",
       "2249994  Southlake        Garner  17439.808355\n",
       "2249995  Southlake        Gurnee  19553.104283\n",
       "2249996  Southlake       Opelika   1935.184400\n",
       "2249997  Southlake     Parkville    714.460009\n",
       "2249998  Southlake  Hopkinsville  15691.816769\n",
       "\n",
       "[2248150 rows x 3 columns]"
      ]
     },
     "execution_count": 11,
     "metadata": {},
     "output_type": "execute_result"
    }
   ],
   "source": [
    "df_final = df_cities[['name_x', 'name_y', 'distance']]\n",
    "df_final"
   ]
  },
  {
   "cell_type": "code",
   "execution_count": 11,
   "id": "872cf11b",
   "metadata": {},
   "outputs": [
    {
     "data": {
      "text/plain": [
       "0.8441863059997559"
      ]
     },
     "execution_count": 11,
     "metadata": {},
     "output_type": "execute_result"
    }
   ],
   "source": [
    "time() - t1"
   ]
  }
 ],
 "metadata": {
  "kernelspec": {
   "display_name": "Python 3 (ipykernel)",
   "language": "python",
   "name": "python3"
  },
  "language_info": {
   "codemirror_mode": {
    "name": "ipython",
    "version": 3
   },
   "file_extension": ".py",
   "mimetype": "text/x-python",
   "name": "python",
   "nbconvert_exporter": "python",
   "pygments_lexer": "ipython3",
   "version": "3.9.13"
  }
 },
 "nbformat": 4,
 "nbformat_minor": 5
}
